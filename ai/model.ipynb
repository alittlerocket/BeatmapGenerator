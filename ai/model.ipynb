{
 "cells": [
  {
   "cell_type": "markdown",
   "metadata": {},
   "source": [
    "# Beatmap Generator"
   ]
  },
  {
   "cell_type": "markdown",
   "metadata": {},
   "source": [
    "## Information Considered from .osu File\n",
    "---\n",
    "- HPDrainRate\n",
    "- CircleSize\n",
    "- OverallDifficulty\n",
    "- ApproachRate\n",
    "- Slider Multiplier\n",
    "- Slider TickRate\n",
    "---\n",
    "\n",
    "## Timing Points\n",
    "---\n",
    "- **time**: Start time of timing section in ms form the beginning of the Beatmap's audio (basically the time where the circle should be clicked).\n",
    "- **beatLength**: Duration in ms of a beat or negative inverse velocity multiplier as a percentage/\n",
    "- **meter**: Integer amount of beats per measure. (If inherited, ignore)\n",
    "- **sampleSet**: Sample set for hit obj. (0 = beatmap default, 1 = normal, 2 = soft, 3 = drum).\n",
    "- **effects**: 1 means kiai time.\n",
    "\n",
    "\n",
    "#### Defaults\n",
    "- **volume**: Should always be set to 1\n",
    "- **sampleIndex**: Should always be set to 0\n",
    "- **uninherited**: Predetermined by other music AI.\n",
    "---\n"
   ]
  },
  {
   "cell_type": "code",
   "execution_count": 1,
   "metadata": {},
   "outputs": [],
   "source": [
    "import numpy as np"
   ]
  },
  {
   "cell_type": "code",
   "execution_count": null,
   "metadata": {},
   "outputs": [],
   "source": []
  }
 ],
 "metadata": {
  "kernelspec": {
   "display_name": "Python 3",
   "language": "python",
   "name": "python3"
  },
  "language_info": {
   "codemirror_mode": {
    "name": "ipython",
    "version": 3
   },
   "file_extension": ".py",
   "mimetype": "text/x-python",
   "name": "python",
   "nbconvert_exporter": "python",
   "pygments_lexer": "ipython3",
   "version": "3.11.6"
  }
 },
 "nbformat": 4,
 "nbformat_minor": 2
}
