{
 "cells": [
  {
   "cell_type": "markdown",
   "metadata": {},
   "source": [
    "# Beatmap Generator"
   ]
  },
  {
   "cell_type": "markdown",
   "metadata": {},
   "source": [
    "## Information Considered from .osu File\n",
    "---\n",
    "- HPDrainRate\n",
    "- CircleSize\n",
    "- OverallDifficulty\n",
    "- ApproachRate\n",
    "- Slider Multiplier\n",
    "- Slider TickRate\n",
    "---\n",
    "\n",
    "## Timing Points\n",
    "---\n",
    "- **time**: Start time of timing section in ms form the beginning of the Beatmap's audio (basically the time where the circle should be clicked).\n",
    "- **beatLength**: Duration in ms of a beat or negative inverse velocity multiplier as a percentage/\n",
    "- **meter**: Integer amount of beats per measure. (If inherited, ignore)\n",
    "- **sampleSet**: Sample set for hit obj. (0 = beatmap default, 1 = normal, 2 = soft, 3 = drum).\n",
    "- **effects**: 1 means kiai time.\n",
    "\n",
    "\n",
    "#### Defaults\n",
    "- **volume**: Should always be set to 1\n",
    "- **sampleIndex**: Should always be set to 0\n",
    "- **uninherited**: Predetermined by other music AI.\n",
    "---\n"
   ]
  }
 ],
 "metadata": {
  "language_info": {
   "name": "python"
  }
 },
 "nbformat": 4,
 "nbformat_minor": 2
}
